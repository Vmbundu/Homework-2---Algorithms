{
 "cells": [
  {
   "cell_type": "code",
   "execution_count": 2,
   "metadata": {},
   "outputs": [],
   "source": [
    "import Misc\n",
    "import Node\n",
    "import MaxHeap\n",
    "import time\n",
    "\n",
    "priority = []\n",
    "\n",
    "priority.append(Node.Node(1,'b'))\n",
    "priority.append(Node.Node(6,'c'))\n",
    "priority.append(Node.Node(5,'a'))\n",
    "priority.append(Node.Node(3,'d'))\n",
    "priority.append(Node.Node(4,'e'))\n",
    "priority.append(Node.Node(7,'f'))\n",
    "priority.append(Node.Node(8,'g'))\n",
    "priority.append(Node.Node(9,'h'))\n",
    "priority.append(Node.Node(10,'i'))\n",
    "priority.append(Node.Node(11,'j'))\n",
    "priority.append(Node.Node(12,'k'))\n",
    "priority.append(Node.Node(13,'l'))\n",
    "priority.append(Node.Node(14,'m'))\n",
    "priority.append(Node.Node(15,'n'))\n",
    "priority.append(Node.Node(16,'o'))\n",
    "priority.append(Node.Node(17,'p'))\n",
    "priority.append(Node.Node(18,'q'))\n",
    "priority.append(Node.Node(19,'r'))\n",
    "priority.append(Node.Node(20,'s'))\n",
    "priority.append(Node.Node(21,'t'))\n",
    "priority.append(Node.Node(22,'u'))\n",
    "priority.append(Node.Node(32,'v'))\n",
    "priority.append(Node.Node(25,'w'))\n",
    "priority.append(Node.Node(24,'x'))\n",
    "priority.append(Node.Node(33,'y'))\n",
    "priority.append(Node.Node(29,'z'))\n",
    "\n",
    "scale = priority\n",
    "times = []\n",
    "\n",
    "for i in range(4,26):\n",
    "    priority = scale[0:i]\n",
    "    start_time = time.time()\n",
    "    Misc.quick_sort(priority, 0, len(priority) - 1)\n",
    "        \n",
    "\n",
    "    while len(priority) > 1:\n",
    "        left_node = priority.pop(0)\n",
    "        right_node = priority.pop(0)\n",
    "\n",
    "        internal_node = Misc.combine(left_node, right_node)\n",
    "        priority.append(internal_node)\n",
    "        Misc.quick_sort(priority, 0, len(priority) - 1)\n",
    "    end_time = time.time()\n",
    "\n",
    "    times.append((end_time-start_time)*1000000)"
   ]
  },
  {
   "cell_type": "code",
   "execution_count": 28,
   "metadata": {},
   "outputs": [],
   "source": [
    "import Misc\n",
    "import Node\n",
    "import MaxHeap\n",
    "import time\n",
    "\n",
    "priority = []\n",
    "\n",
    "priority.append(Node.Node(1,'b'))\n",
    "priority.append(Node.Node(6,'c'))\n",
    "priority.append(Node.Node(5,'a'))\n",
    "priority.append(Node.Node(3,'d'))\n",
    "priority.append(Node.Node(4,'e'))\n",
    "priority.append(Node.Node(7,'f'))\n",
    "priority.append(Node.Node(8,'g'))\n",
    "priority.append(Node.Node(9,'h'))\n",
    "priority.append(Node.Node(10,'i'))\n",
    "priority.append(Node.Node(11,'j'))\n",
    "priority.append(Node.Node(12,'k'))\n",
    "priority.append(Node.Node(13,'l'))\n",
    "priority.append(Node.Node(14,'m'))\n",
    "priority.append(Node.Node(15,'n'))\n",
    "priority.append(Node.Node(16,'o'))\n",
    "priority.append(Node.Node(17,'p'))\n",
    "priority.append(Node.Node(18,'q'))\n",
    "priority.append(Node.Node(19,'r'))\n",
    "priority.append(Node.Node(20,'s'))\n",
    "priority.append(Node.Node(21,'t'))\n",
    "priority.append(Node.Node(22,'u'))\n",
    "priority.append(Node.Node(32,'v'))\n",
    "priority.append(Node.Node(25,'w'))\n",
    "priority.append(Node.Node(24,'x'))\n",
    "priority.append(Node.Node(33,'y'))\n",
    "priority.append(Node.Node(29,'z'))\n",
    "\n",
    "scale = priority\n",
    "times = []\n",
    "\n",
    "\n",
    "for i in range(4,26):\n",
    "    priority = scale[0:i]\n",
    "    start_time = time.time()\n",
    "    priority_heap = MaxHeap.MaxHeap()\n",
    "    priority_heap.create(priority)\n",
    "    \n",
    "        \n",
    "    internal_node = None\n",
    "\n",
    "    while len(priority_heap.heap) > 1:\n",
    "        left_node = priority_heap.heap.pop()\n",
    "        right_node = priority_heap.heap.pop()\n",
    "\n",
    "        internal_node = Misc.combine(left_node, right_node)\n",
    "        priority_heap.insert(internal_node)\n",
    "    end_time = time.time()\n",
    "\n",
    "    times.append((end_time-start_time)*1000000)"
   ]
  },
  {
   "cell_type": "code",
   "execution_count": 29,
   "metadata": {},
   "outputs": [
    {
     "data": {
      "text/plain": [
       "<matplotlib.legend.Legend at 0x7fcbd8f72890>"
      ]
     },
     "execution_count": 29,
     "metadata": {},
     "output_type": "execute_result"
    },
    {
     "data": {
      "image/png": "[encoded data removed]",
      "text/plain": [
       "<Figure size 640x480 with 1 Axes>"
      ]
     },
     "metadata": {},
     "output_type": "display_data"
    }
   ],
   "source": [
    "import matplotlib.pyplot as plt\n",
    "import math\n",
    "import statistics\n",
    "\n",
    "#plt.xscale('log')\n",
    "plt.ylabel('Time(seconds)',size=12)\n",
    "plt.xlabel('n',size=12)\n",
    "n = range(4,26)\n",
    "theoretical = [ i * math.log(i,2) for i in n ]\n",
    "\n",
    "avg_the = statistics.mean(theoretical)\n",
    "avg_exp = statistics.mean(times)\n",
    "\n",
    "const = avg_the/avg_exp\n",
    "#const = avg_exp/avg_the \n",
    "adjust = [i * const for i in times]\n",
    "\n",
    "\n",
    "plt.plot(n, adjust, \"*\", label ='Experimental')\n",
    "plt.plot(n, theoretical, \"-\", label ='Theoretical')\n",
    "plt.legend(loc=0)"
   ]
  },
  {
   "cell_type": "code",
   "execution_count": 23,
   "metadata": {},
   "outputs": [
    {
     "name": "stdout",
     "output_type": "stream",
     "text": [
      "     n  Experimental  Theoretical  Adjusted Theoretical\n",
      "0    4     96.797943     8.000000            187.633000\n",
      "1    5   1428.365707    11.609640           2768.742119\n",
      "2    6     16.927719    15.509775             32.812667\n",
      "3    7     14.305115    19.651484             27.729015\n",
      "4    8     16.927719    24.000000             32.812667\n",
      "5    9     26.702881    28.529325             51.760827\n",
      "6   10     31.948090    33.219281             61.928133\n",
      "7   11     41.246414    38.053748             79.951992\n",
      "8   12     47.683716    43.019550             92.430049\n",
      "9   13     41.246414    48.105716             79.951992\n",
      "10  14     34.093857    53.302969             66.087485\n",
      "11  15     81.777573    58.603359            158.517534\n",
      "12  16     60.796738    64.000000            117.848313\n",
      "13  17     58.650970    69.486868            113.688960\n",
      "14  18     48.160553    75.058650             93.354350\n",
      "15  19     52.928925    80.710623            102.597354\n",
      "16  20     56.028366    86.438562            108.605308\n",
      "17  21     57.935715    92.238666            112.302510\n",
      "18  22     61.273575    98.107496            118.772613\n",
      "19  23     64.849854   104.041925            125.704867\n",
      "20  24     68.187714   110.039100            132.174970\n",
      "21  25     70.095062   116.096405            135.872172\n",
      "Constant: 1.9383986223645338\n"
     ]
    }
   ],
   "source": [
    "import pandas as pd\n",
    "\n",
    "data = {'n':n, 'Experimental':times, 'Theoretical':theoretical, 'Adjusted Theoretical':adjust}\n",
    "df = pd.DataFrame(data)\n",
    "print(df)\n",
    "print(f'Constant: {const}')"
   ]
  }
 ],
 "metadata": {
  "kernelspec": {
   "display_name": "Python 3",
   "language": "python",
   "name": "python3"
  },
  "language_info": {
   "codemirror_mode": {
    "name": "ipython",
    "version": 3
   },
   "file_extension": ".py",
   "mimetype": "text/x-python",
   "name": "python",
   "nbconvert_exporter": "python",
   "pygments_lexer": "ipython3",
   "version": "3.10.12"
  }
 },
 "nbformat": 4,
 "nbformat_minor": 2
}
